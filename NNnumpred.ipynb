{
 "cells": [
  {
   "cell_type": "code",
   "execution_count": 1,
   "metadata": {},
   "outputs": [],
   "source": [
    "import numpy as np\n",
    "import pandas as pd\n",
    "import matplotlib.pyplot as plt\n"
   ]
  },
  {
   "cell_type": "code",
   "execution_count": 2,
   "metadata": {},
   "outputs": [],
   "source": [
    "infile_train = \"./kaggle/digit_recognizer/train.csv\"\n",
    "infile_test = \"./kaggle/digit_recognizer/test.csv\""
   ]
  },
  {
   "cell_type": "code",
   "execution_count": 3,
   "metadata": {},
   "outputs": [],
   "source": [
    "test_data = pd.read_csv(infile_test)\n",
    "train_data = pd.read_csv(infile_train)"
   ]
  },
  {
   "cell_type": "code",
   "execution_count": 4,
   "metadata": {},
   "outputs": [
    {
     "data": {
      "text/html": [
       "<div>\n",
       "<style scoped>\n",
       "    .dataframe tbody tr th:only-of-type {\n",
       "        vertical-align: middle;\n",
       "    }\n",
       "\n",
       "    .dataframe tbody tr th {\n",
       "        vertical-align: top;\n",
       "    }\n",
       "\n",
       "    .dataframe thead th {\n",
       "        text-align: right;\n",
       "    }\n",
       "</style>\n",
       "<table border=\"1\" class=\"dataframe\">\n",
       "  <thead>\n",
       "    <tr style=\"text-align: right;\">\n",
       "      <th></th>\n",
       "      <th>label</th>\n",
       "      <th>pixel0</th>\n",
       "      <th>pixel1</th>\n",
       "      <th>pixel2</th>\n",
       "      <th>pixel3</th>\n",
       "      <th>pixel4</th>\n",
       "      <th>pixel5</th>\n",
       "      <th>pixel6</th>\n",
       "      <th>pixel7</th>\n",
       "      <th>pixel8</th>\n",
       "      <th>...</th>\n",
       "      <th>pixel774</th>\n",
       "      <th>pixel775</th>\n",
       "      <th>pixel776</th>\n",
       "      <th>pixel777</th>\n",
       "      <th>pixel778</th>\n",
       "      <th>pixel779</th>\n",
       "      <th>pixel780</th>\n",
       "      <th>pixel781</th>\n",
       "      <th>pixel782</th>\n",
       "      <th>pixel783</th>\n",
       "    </tr>\n",
       "  </thead>\n",
       "  <tbody>\n",
       "    <tr>\n",
       "      <th>0</th>\n",
       "      <td>1</td>\n",
       "      <td>0</td>\n",
       "      <td>0</td>\n",
       "      <td>0</td>\n",
       "      <td>0</td>\n",
       "      <td>0</td>\n",
       "      <td>0</td>\n",
       "      <td>0</td>\n",
       "      <td>0</td>\n",
       "      <td>0</td>\n",
       "      <td>...</td>\n",
       "      <td>0</td>\n",
       "      <td>0</td>\n",
       "      <td>0</td>\n",
       "      <td>0</td>\n",
       "      <td>0</td>\n",
       "      <td>0</td>\n",
       "      <td>0</td>\n",
       "      <td>0</td>\n",
       "      <td>0</td>\n",
       "      <td>0</td>\n",
       "    </tr>\n",
       "    <tr>\n",
       "      <th>1</th>\n",
       "      <td>0</td>\n",
       "      <td>0</td>\n",
       "      <td>0</td>\n",
       "      <td>0</td>\n",
       "      <td>0</td>\n",
       "      <td>0</td>\n",
       "      <td>0</td>\n",
       "      <td>0</td>\n",
       "      <td>0</td>\n",
       "      <td>0</td>\n",
       "      <td>...</td>\n",
       "      <td>0</td>\n",
       "      <td>0</td>\n",
       "      <td>0</td>\n",
       "      <td>0</td>\n",
       "      <td>0</td>\n",
       "      <td>0</td>\n",
       "      <td>0</td>\n",
       "      <td>0</td>\n",
       "      <td>0</td>\n",
       "      <td>0</td>\n",
       "    </tr>\n",
       "    <tr>\n",
       "      <th>2</th>\n",
       "      <td>1</td>\n",
       "      <td>0</td>\n",
       "      <td>0</td>\n",
       "      <td>0</td>\n",
       "      <td>0</td>\n",
       "      <td>0</td>\n",
       "      <td>0</td>\n",
       "      <td>0</td>\n",
       "      <td>0</td>\n",
       "      <td>0</td>\n",
       "      <td>...</td>\n",
       "      <td>0</td>\n",
       "      <td>0</td>\n",
       "      <td>0</td>\n",
       "      <td>0</td>\n",
       "      <td>0</td>\n",
       "      <td>0</td>\n",
       "      <td>0</td>\n",
       "      <td>0</td>\n",
       "      <td>0</td>\n",
       "      <td>0</td>\n",
       "    </tr>\n",
       "    <tr>\n",
       "      <th>3</th>\n",
       "      <td>4</td>\n",
       "      <td>0</td>\n",
       "      <td>0</td>\n",
       "      <td>0</td>\n",
       "      <td>0</td>\n",
       "      <td>0</td>\n",
       "      <td>0</td>\n",
       "      <td>0</td>\n",
       "      <td>0</td>\n",
       "      <td>0</td>\n",
       "      <td>...</td>\n",
       "      <td>0</td>\n",
       "      <td>0</td>\n",
       "      <td>0</td>\n",
       "      <td>0</td>\n",
       "      <td>0</td>\n",
       "      <td>0</td>\n",
       "      <td>0</td>\n",
       "      <td>0</td>\n",
       "      <td>0</td>\n",
       "      <td>0</td>\n",
       "    </tr>\n",
       "    <tr>\n",
       "      <th>4</th>\n",
       "      <td>0</td>\n",
       "      <td>0</td>\n",
       "      <td>0</td>\n",
       "      <td>0</td>\n",
       "      <td>0</td>\n",
       "      <td>0</td>\n",
       "      <td>0</td>\n",
       "      <td>0</td>\n",
       "      <td>0</td>\n",
       "      <td>0</td>\n",
       "      <td>...</td>\n",
       "      <td>0</td>\n",
       "      <td>0</td>\n",
       "      <td>0</td>\n",
       "      <td>0</td>\n",
       "      <td>0</td>\n",
       "      <td>0</td>\n",
       "      <td>0</td>\n",
       "      <td>0</td>\n",
       "      <td>0</td>\n",
       "      <td>0</td>\n",
       "    </tr>\n",
       "  </tbody>\n",
       "</table>\n",
       "<p>5 rows × 785 columns</p>\n",
       "</div>"
      ],
      "text/plain": [
       "   label  pixel0  pixel1  pixel2  pixel3  pixel4  pixel5  pixel6  pixel7  \\\n",
       "0      1       0       0       0       0       0       0       0       0   \n",
       "1      0       0       0       0       0       0       0       0       0   \n",
       "2      1       0       0       0       0       0       0       0       0   \n",
       "3      4       0       0       0       0       0       0       0       0   \n",
       "4      0       0       0       0       0       0       0       0       0   \n",
       "\n",
       "   pixel8  ...  pixel774  pixel775  pixel776  pixel777  pixel778  pixel779  \\\n",
       "0       0  ...         0         0         0         0         0         0   \n",
       "1       0  ...         0         0         0         0         0         0   \n",
       "2       0  ...         0         0         0         0         0         0   \n",
       "3       0  ...         0         0         0         0         0         0   \n",
       "4       0  ...         0         0         0         0         0         0   \n",
       "\n",
       "   pixel780  pixel781  pixel782  pixel783  \n",
       "0         0         0         0         0  \n",
       "1         0         0         0         0  \n",
       "2         0         0         0         0  \n",
       "3         0         0         0         0  \n",
       "4         0         0         0         0  \n",
       "\n",
       "[5 rows x 785 columns]"
      ]
     },
     "execution_count": 4,
     "metadata": {},
     "output_type": "execute_result"
    }
   ],
   "source": [
    "train_data.head()"
   ]
  },
  {
   "cell_type": "code",
   "execution_count": 5,
   "metadata": {},
   "outputs": [
    {
     "data": {
      "text/plain": [
       "(42000, 785)"
      ]
     },
     "execution_count": 5,
     "metadata": {},
     "output_type": "execute_result"
    }
   ],
   "source": [
    "data = np.array(train_data)\n",
    "data.shape"
   ]
  },
  {
   "cell_type": "code",
   "execution_count": 6,
   "metadata": {},
   "outputs": [
    {
     "data": {
      "text/plain": [
       "array([[1, 0, 0, ..., 0, 0, 0],\n",
       "       [0, 0, 0, ..., 0, 0, 0],\n",
       "       [1, 0, 0, ..., 0, 0, 0],\n",
       "       ...,\n",
       "       [7, 0, 0, ..., 0, 0, 0],\n",
       "       [6, 0, 0, ..., 0, 0, 0],\n",
       "       [9, 0, 0, ..., 0, 0, 0]])"
      ]
     },
     "execution_count": 6,
     "metadata": {},
     "output_type": "execute_result"
    }
   ],
   "source": [
    "data"
   ]
  },
  {
   "cell_type": "code",
   "execution_count": 7,
   "metadata": {},
   "outputs": [],
   "source": [
    "m,n = data.shape"
   ]
  },
  {
   "cell_type": "code",
   "execution_count": 8,
   "metadata": {},
   "outputs": [],
   "source": [
    "np.random.shuffle(data)"
   ]
  },
  {
   "cell_type": "code",
   "execution_count": 9,
   "metadata": {},
   "outputs": [
    {
     "data": {
      "text/plain": [
       "array([[2, 0, 0, ..., 0, 0, 0],\n",
       "       [1, 0, 0, ..., 0, 0, 0],\n",
       "       [9, 0, 0, ..., 0, 0, 0],\n",
       "       ...,\n",
       "       [1, 0, 0, ..., 0, 0, 0],\n",
       "       [2, 0, 0, ..., 0, 0, 0],\n",
       "       [7, 0, 0, ..., 0, 0, 0]])"
      ]
     },
     "execution_count": 9,
     "metadata": {},
     "output_type": "execute_result"
    }
   ],
   "source": [
    "data"
   ]
  },
  {
   "cell_type": "code",
   "execution_count": 10,
   "metadata": {},
   "outputs": [],
   "source": [
    "test = data[0:1000].T\n",
    "ytest = test[0]\n",
    "Xtest = test[1:n]\n",
    "Xtest = Xtest / 255\n",
    "\n",
    "train = data[1000:m].T\n",
    "ytrain = train[0]\n",
    "Xtrain = train[1:n]\n",
    "Xtrain = Xtrain / 255"
   ]
  },
  {
   "cell_type": "code",
   "execution_count": 11,
   "metadata": {},
   "outputs": [
    {
     "data": {
      "text/plain": [
       "(784, 41000)"
      ]
     },
     "execution_count": 11,
     "metadata": {},
     "output_type": "execute_result"
    }
   ],
   "source": [
    "Xtrain.shape"
   ]
  },
  {
   "cell_type": "code",
   "execution_count": 12,
   "metadata": {},
   "outputs": [
    {
     "data": {
      "text/plain": [
       "(41000,)"
      ]
     },
     "execution_count": 12,
     "metadata": {},
     "output_type": "execute_result"
    }
   ],
   "source": [
    "ytrain.shape"
   ]
  },
  {
   "cell_type": "code",
   "execution_count": 23,
   "metadata": {},
   "outputs": [],
   "source": [
    "def init_params():\n",
    "    w1 = np.random.rand(10, 784) - 0.5\n",
    "    b1 = np.random.rand(10, 1) - 0.5\n",
    "    w2 = np.random.rand(10, 10) - 0.5\n",
    "    b2 = np.random.rand(10, 1) - 0.5\n",
    "    \n",
    "    return w1,b1,w2,b2"
   ]
  },
  {
   "cell_type": "code",
   "execution_count": 24,
   "metadata": {},
   "outputs": [],
   "source": [
    "def ReLu(z):\n",
    "    return np.maximum(z,0)"
   ]
  },
  {
   "cell_type": "code",
   "execution_count": 25,
   "metadata": {},
   "outputs": [],
   "source": [
    "def ReLU_deriv(Z):\n",
    "    return Z > 0\n"
   ]
  },
  {
   "cell_type": "code",
   "execution_count": 46,
   "metadata": {},
   "outputs": [],
   "source": [
    "def softmax(z):\n",
    "    return np.exp(z) / sum(np.exp(z))"
   ]
  },
  {
   "cell_type": "code",
   "execution_count": 47,
   "metadata": {},
   "outputs": [],
   "source": [
    "def forward_prop(w1, b1,w2, b2, X):\n",
    "    Z1 = w1.dot(X) + b1\n",
    "    A1 = ReLu(Z1)\n",
    "    Z2 = w2.dot(A1) + b2\n",
    "    A2 = softmax(Z2)\n",
    "    \n",
    "    return Z1,A1,Z2,A2"
   ]
  },
  {
   "cell_type": "code",
   "execution_count": 48,
   "metadata": {},
   "outputs": [],
   "source": [
    "def one_hot(Y):\n",
    "    one_hot_Y = np.zeros((Y.size,Y.max()+1))\n",
    "    one_hot_Y[np.arange(Y.size), Y] =1\n",
    "    one_hot_Y = one_hot_Y.T\n",
    "    return one_hot_Y"
   ]
  },
  {
   "cell_type": "code",
   "execution_count": 49,
   "metadata": {},
   "outputs": [],
   "source": [
    "def back_prop(Z1,A1,Z2,A2,W1,W2,x,y):\n",
    "    one_hot_Y = one_hot(y)\n",
    "    dZ2 = A2 - one_hot_Y\n",
    "    dW2 = 1 / m * dZ2.dot(A1.T)\n",
    "    db2 = 1 / m * np.sum(dZ2)\n",
    "    dZ1 = W2.T.dot(dZ2) * ReLU_deriv(Z1)\n",
    "    dW1 = 1 / m * dZ1.dot(x.T)\n",
    "    db1 = 1 / m * np.sum(dZ1)\n",
    "    return dW1, db1, dW2, db2\n",
    "\n",
    "    "
   ]
  },
  {
   "cell_type": "code",
   "execution_count": 50,
   "metadata": {},
   "outputs": [],
   "source": [
    "def update_params(W1, b1, W2, b2, dW1, db1, dW2, db2, alpha):\n",
    "    W1 = W1 - alpha * dW1\n",
    "    b1 = b1 - alpha * db1    \n",
    "    W2 = W2 - alpha * dW2  \n",
    "    b2 = b2 - alpha * db2    \n",
    "    return W1, b1, W2, b2"
   ]
  },
  {
   "cell_type": "code",
   "execution_count": 51,
   "metadata": {},
   "outputs": [],
   "source": [
    "def get_predictions(A2):\n",
    "    return np.argmax(A2, 0)\n",
    "\n",
    "def get_accuracy(predictions, Y):\n",
    "    print(predictions, Y)\n",
    "    return np.sum(predictions == Y) / Y.size\n",
    "\n",
    "def gradient_descent(X, Y, alpha, iterations):\n",
    "    W1, b1, W2, b2 = init_params()\n",
    "    for i in range(iterations):\n",
    "        Z1, A1, Z2, A2 = forward_prop(W1, b1, W2, b2, X)\n",
    "        dW1, db1, dW2, db2 = back_prop(Z1, A1, Z2, A2, W1, W2, X, Y)\n",
    "        W1, b1, W2, b2 = update_params(W1, b1, W2, b2, dW1, db1, dW2, db2, alpha)\n",
    "        if i % 10 == 0:\n",
    "            print(\"Iteration: \", i)\n",
    "            predictions = get_predictions(A2)\n",
    "            print(get_accuracy(predictions, Y))\n",
    "    return W1, b1, W2, b2"
   ]
  },
  {
   "cell_type": "code",
   "execution_count": 52,
   "metadata": {},
   "outputs": [
    {
     "name": "stdout",
     "output_type": "stream",
     "text": [
      "Iteration:  0\n",
      "[4 4 7 ... 7 1 4] [8 1 2 ... 1 2 7]\n",
      "0.07775609756097561\n",
      "Iteration:  10\n",
      "[9 6 2 ... 7 3 0] [8 1 2 ... 1 2 7]\n",
      "0.18121951219512195\n",
      "Iteration:  20\n",
      "[1 1 2 ... 7 3 7] [8 1 2 ... 1 2 7]\n",
      "0.26358536585365855\n",
      "Iteration:  30\n",
      "[1 1 2 ... 7 1 7] [8 1 2 ... 1 2 7]\n",
      "0.3331707317073171\n",
      "Iteration:  40\n",
      "[1 1 2 ... 7 1 7] [8 1 2 ... 1 2 7]\n",
      "0.3815609756097561\n",
      "Iteration:  50\n",
      "[1 1 2 ... 7 1 7] [8 1 2 ... 1 2 7]\n",
      "0.417\n",
      "Iteration:  60\n",
      "[1 1 2 ... 1 6 7] [8 1 2 ... 1 2 7]\n",
      "0.4478048780487805\n",
      "Iteration:  70\n",
      "[1 1 3 ... 1 1 7] [8 1 2 ... 1 2 7]\n",
      "0.48765853658536584\n",
      "Iteration:  80\n",
      "[1 1 3 ... 1 1 7] [8 1 2 ... 1 2 7]\n",
      "0.5419512195121952\n",
      "Iteration:  90\n",
      "[1 1 3 ... 1 2 7] [8 1 2 ... 1 2 7]\n",
      "0.5892439024390244\n",
      "Iteration:  100\n",
      "[1 1 3 ... 1 2 7] [8 1 2 ... 1 2 7]\n",
      "0.626390243902439\n",
      "Iteration:  110\n",
      "[1 1 3 ... 8 2 7] [8 1 2 ... 1 2 7]\n",
      "0.6542439024390244\n",
      "Iteration:  120\n",
      "[1 1 3 ... 8 2 7] [8 1 2 ... 1 2 7]\n",
      "0.6760243902439025\n",
      "Iteration:  130\n",
      "[1 1 3 ... 8 2 7] [8 1 2 ... 1 2 7]\n",
      "0.6930487804878048\n",
      "Iteration:  140\n",
      "[1 1 3 ... 8 2 7] [8 1 2 ... 1 2 7]\n",
      "0.709170731707317\n",
      "Iteration:  150\n",
      "[1 1 3 ... 8 2 7] [8 1 2 ... 1 2 7]\n",
      "0.7224146341463414\n",
      "Iteration:  160\n",
      "[1 1 3 ... 8 2 7] [8 1 2 ... 1 2 7]\n",
      "0.7334390243902439\n",
      "Iteration:  170\n",
      "[1 1 3 ... 8 2 7] [8 1 2 ... 1 2 7]\n",
      "0.7435365853658537\n",
      "Iteration:  180\n",
      "[1 1 3 ... 8 2 7] [8 1 2 ... 1 2 7]\n",
      "0.7523414634146341\n",
      "Iteration:  190\n",
      "[1 1 3 ... 8 2 7] [8 1 2 ... 1 2 7]\n",
      "0.7604634146341464\n",
      "Iteration:  200\n",
      "[1 1 3 ... 8 2 7] [8 1 2 ... 1 2 7]\n",
      "0.7682926829268293\n",
      "Iteration:  210\n",
      "[1 1 3 ... 8 2 7] [8 1 2 ... 1 2 7]\n",
      "0.7742926829268293\n",
      "Iteration:  220\n",
      "[1 1 3 ... 8 2 7] [8 1 2 ... 1 2 7]\n",
      "0.7794634146341464\n",
      "Iteration:  230\n",
      "[1 1 3 ... 8 2 7] [8 1 2 ... 1 2 7]\n",
      "0.7840731707317073\n",
      "Iteration:  240\n",
      "[1 1 3 ... 8 2 7] [8 1 2 ... 1 2 7]\n",
      "0.7885853658536586\n",
      "Iteration:  250\n",
      "[1 1 3 ... 8 2 7] [8 1 2 ... 1 2 7]\n",
      "0.7928780487804878\n",
      "Iteration:  260\n",
      "[1 1 3 ... 8 2 7] [8 1 2 ... 1 2 7]\n",
      "0.7969512195121952\n",
      "Iteration:  270\n",
      "[1 1 3 ... 8 2 7] [8 1 2 ... 1 2 7]\n",
      "0.8004878048780488\n",
      "Iteration:  280\n",
      "[1 1 3 ... 8 2 7] [8 1 2 ... 1 2 7]\n",
      "0.804439024390244\n",
      "Iteration:  290\n",
      "[1 1 3 ... 8 2 7] [8 1 2 ... 1 2 7]\n",
      "0.807829268292683\n",
      "Iteration:  300\n",
      "[1 1 3 ... 8 2 7] [8 1 2 ... 1 2 7]\n",
      "0.8106585365853659\n",
      "Iteration:  310\n",
      "[1 1 3 ... 8 2 7] [8 1 2 ... 1 2 7]\n",
      "0.813780487804878\n",
      "Iteration:  320\n",
      "[1 1 3 ... 8 2 7] [8 1 2 ... 1 2 7]\n",
      "0.8167317073170731\n",
      "Iteration:  330\n",
      "[1 1 3 ... 8 2 7] [8 1 2 ... 1 2 7]\n",
      "0.8199024390243902\n",
      "Iteration:  340\n",
      "[1 1 3 ... 8 2 7] [8 1 2 ... 1 2 7]\n",
      "0.822780487804878\n",
      "Iteration:  350\n",
      "[1 1 3 ... 8 2 7] [8 1 2 ... 1 2 7]\n",
      "0.8248780487804878\n",
      "Iteration:  360\n",
      "[1 1 3 ... 8 2 7] [8 1 2 ... 1 2 7]\n",
      "0.8272926829268292\n",
      "Iteration:  370\n",
      "[1 1 3 ... 8 2 7] [8 1 2 ... 1 2 7]\n",
      "0.8291219512195122\n",
      "Iteration:  380\n",
      "[1 1 3 ... 8 2 7] [8 1 2 ... 1 2 7]\n",
      "0.8310487804878048\n",
      "Iteration:  390\n",
      "[1 1 3 ... 8 2 7] [8 1 2 ... 1 2 7]\n",
      "0.8332926829268292\n",
      "Iteration:  400\n",
      "[1 1 3 ... 8 2 7] [8 1 2 ... 1 2 7]\n",
      "0.8349024390243902\n",
      "Iteration:  410\n",
      "[1 1 3 ... 8 2 7] [8 1 2 ... 1 2 7]\n",
      "0.8368292682926829\n",
      "Iteration:  420\n",
      "[1 1 3 ... 8 2 7] [8 1 2 ... 1 2 7]\n",
      "0.8385121951219512\n",
      "Iteration:  430\n",
      "[1 1 3 ... 8 2 7] [8 1 2 ... 1 2 7]\n",
      "0.8403170731707317\n",
      "Iteration:  440\n",
      "[1 1 3 ... 8 2 7] [8 1 2 ... 1 2 7]\n",
      "0.8416341463414634\n",
      "Iteration:  450\n",
      "[1 1 3 ... 8 2 7] [8 1 2 ... 1 2 7]\n",
      "0.8428048780487805\n",
      "Iteration:  460\n",
      "[8 1 3 ... 8 2 7] [8 1 2 ... 1 2 7]\n",
      "0.8444146341463414\n",
      "Iteration:  470\n",
      "[8 1 3 ... 8 2 7] [8 1 2 ... 1 2 7]\n",
      "0.8455853658536585\n",
      "Iteration:  480\n",
      "[8 1 3 ... 8 2 7] [8 1 2 ... 1 2 7]\n",
      "0.8469024390243902\n",
      "Iteration:  490\n",
      "[8 1 3 ... 8 2 7] [8 1 2 ... 1 2 7]\n",
      "0.8481951219512195\n"
     ]
    }
   ],
   "source": [
    "W1, b1, W2, b2 = gradient_descent(Xtrain, ytrain, 0.10, 500)"
   ]
  },
  {
   "cell_type": "code",
   "execution_count": 53,
   "metadata": {},
   "outputs": [],
   "source": [
    "def make_predictions(X, W1, b1, W2, b2):\n",
    "    _, _, _, A2 = forward_prop(W1, b1, W2, b2, X)\n",
    "    predictions = get_predictions(A2)\n",
    "    return predictions\n",
    "\n",
    "def test_prediction(index, W1, b1, W2, b2):\n",
    "    current_image = Xtrain[:, index, None]\n",
    "    prediction = make_predictions(Xtrain[:, index, None], W1, b1, W2, b2)\n",
    "    label = ytrain[index]\n",
    "    print(\"Prediction: \", prediction)\n",
    "    print(\"Label: \", label)\n",
    "    \n",
    "    current_image = current_image.reshape((28, 28)) * 255\n",
    "    plt.gray()\n",
    "    plt.imshow(current_image, interpolation='nearest')\n",
    "    plt.show()\n"
   ]
  },
  {
   "cell_type": "code",
   "execution_count": 54,
   "metadata": {},
   "outputs": [
    {
     "name": "stdout",
     "output_type": "stream",
     "text": [
      "Prediction:  [8]\n",
      "Label:  8\n"
     ]
    },
    {
     "data": {
      "image/png": "[encoded data removed]",
      "text/plain": [
       "<Figure size 432x288 with 1 Axes>"
      ]
     },
     "metadata": {
      "needs_background": "light"
     },
     "output_type": "display_data"
    },
    {
     "name": "stdout",
     "output_type": "stream",
     "text": [
      "Prediction:  [1]\n",
      "Label:  1\n"
     ]
    },
    {
     "data": {
      "image/png": "[encoded data removed]",
      "text/plain": [
       "<Figure size 432x288 with 1 Axes>"
      ]
     },
     "metadata": {
      "needs_background": "light"
     },
     "output_type": "display_data"
    },
    {
     "name": "stdout",
     "output_type": "stream",
     "text": [
      "Prediction:  [3]\n",
      "Label:  2\n"
     ]
    },
    {
     "data": {
      "image/png": "[encoded data removed]",
      "text/plain": [
       "<Figure size 432x288 with 1 Axes>"
      ]
     },
     "metadata": {
      "needs_background": "light"
     },
     "output_type": "display_data"
    },
    {
     "name": "stdout",
     "output_type": "stream",
     "text": [
      "Prediction:  [9]\n",
      "Label:  9\n"
     ]
    },
    {
     "data": {
      "image/png": "[encoded data removed]",
      "text/plain": [
       "<Figure size 432x288 with 1 Axes>"
      ]
     },
     "metadata": {
      "needs_background": "light"
     },
     "output_type": "display_data"
    }
   ],
   "source": [
    "test_prediction(0, W1, b1, W2, b2)\n",
    "test_prediction(1, W1, b1, W2, b2)\n",
    "test_prediction(2, W1, b1, W2, b2)\n",
    "test_prediction(3, W1, b1, W2, b2)"
   ]
  },
  {
   "cell_type": "code",
   "execution_count": 55,
   "metadata": {},
   "outputs": [
    {
     "name": "stdout",
     "output_type": "stream",
     "text": [
      "[2 1 9 4 1 3 9 2 6 0 3 3 0 4 8 9 5 3 2 1 2 2 0 0 6 2 1 2 0 6 6 7 6 2 6 8 7\n",
      " 7 1 2 4 7 4 3 6 4 8 9 9 2 0 7 6 8 2 5 5 0 4 1 7 7 6 6 0 4 3 9 9 6 0 4 9 9\n",
      " 1 3 3 6 4 2 0 9 1 1 6 4 6 7 4 8 6 4 2 0 1 0 4 1 6 2 0 5 2 1 9 1 3 1 1 8 1\n",
      " 1 1 8 2 2 6 0 5 8 9 7 8 9 3 8 5 4 0 7 4 8 3 1 1 4 7 0 9 4 3 7 7 3 2 7 3 8\n",
      " 1 9 9 7 9 1 1 8 8 8 6 5 2 1 0 0 1 4 9 3 6 1 4 5 5 2 1 1 2 2 1 5 2 3 7 0 1\n",
      " 2 1 9 6 0 1 3 9 1 3 3 0 9 7 9 6 1 3 1 3 0 5 7 5 7 5 8 3 2 8 4 4 5 0 3 8 7\n",
      " 1 7 3 2 3 2 8 0 6 2 7 6 0 4 7 3 5 8 2 7 5 9 4 4 2 8 5 9 0 7 9 4 6 2 4 6 8\n",
      " 9 8 7 6 8 0 4 2 7 8 1 9 8 0 8 6 7 1 6 1 9 1 1 3 0 1 2 9 3 2 6 3 8 0 2 7 4\n",
      " 6 4 1 4 9 6 1 6 1 4 9 7 2 1 6 9 1 8 2 1 1 4 7 7 4 5 7 0 5 4 6 8 9 7 2 3 3\n",
      " 2 4 2 0 9 4 3 8 1 3 9 9 8 0 0 9 4 0 6 3 9 9 8 2 6 8 8 9 1 1 8 0 5 4 1 9 2\n",
      " 1 7 1 2 5 1 1 7 9 9 4 3 4 6 1 2 9 7 5 6 1 1 7 8 1 6 8 8 3 6 7 5 2 4 1 9 6\n",
      " 0 8 2 4 5 6 4 1 1 0 2 3 7 7 0 4 6 5 6 7 5 1 9 9 4 7 1 9 8 5 3 1 9 9 6 9 7\n",
      " 1 6 5 7 0 3 7 9 1 4 2 1 7 0 2 2 7 7 0 1 2 8 9 2 0 0 4 4 9 8 8 7 1 1 2 8 3\n",
      " 0 7 9 9 0 0 4 5 5 9 9 7 6 0 8 8 5 8 6 8 6 7 1 7 0 9 8 2 4 6 3 4 2 2 6 8 2\n",
      " 6 9 6 1 3 3 6 5 6 8 8 4 2 7 0 6 8 1 7 7 8 0 7 9 3 2 2 8 3 1 3 4 0 9 4 9 5\n",
      " 2 8 3 4 3 1 2 6 2 7 9 3 1 4 1 3 7 9 2 3 5 1 4 1 0 9 6 6 7 0 3 2 0 4 6 5 0\n",
      " 6 4 9 0 3 2 3 2 8 1 9 7 7 9 2 2 6 0 2 8 7 4 8 4 8 3 6 5 1 6 8 9 9 8 1 7 9\n",
      " 9 3 5 2 7 4 1 3 5 7 7 1 4 6 5 4 4 9 2 9 0 0 2 1 8 0 1 1 6 9 3 4 4 9 1 2 4\n",
      " 1 7 6 9 4 8 6 4 4 2 2 0 8 8 6 7 3 3 2 1 7 1 6 1 1 8 1 3 2 6 0 9 6 7 1 1 7\n",
      " 4 3 6 8 2 3 5 0 9 8 4 8 0 1 3 0 6 9 6 9 5 5 5 0 4 4 5 8 3 9 6 9 7 3 0 7 9\n",
      " 7 1 3 6 1 7 4 2 2 5 7 9 4 6 9 9 3 5 3 0 2 4 6 1 7 7 2 6 8 2 4 0 8 1 0 0 9\n",
      " 8 4 4 5 1 7 4 1 3 0 0 8 0 6 3 3 0 1 1 4 5 0 5 8 4 2 5 3 5 4 1 7 0 5 8 4 1\n",
      " 3 0 5 0 8 9 0 4 1 7 6 9 4 9 3 0 6 1 2 1 1 9 9 0 7 3 6 9 7 2 2 3 7 4 2 0 1\n",
      " 0 8 6 7 4 1 0 4 8 9 2 8 6 2 7 5 6 6 4 3 1 9 7 2 7 3 9 9 0 4 9 9 0 1 4 3 9\n",
      " 1 4 1 8 5 0 3 0 3 3 2 0 0 7 5 9 2 3 4 5 7 5 1 9 5 2 1 8 2 8 5 1 7 9 1 7 2\n",
      " 6 7 5 9 6 7 0 2 9 0 0 3 3 8 2 0 9 8 4 4 8 0 4 9 1 8 4 7 5 4 0 1 6 9 6 0 1\n",
      " 6 4 9 7 2 8 7 3 2 7 2 9 0 3 9 2 8 3 3 4 7 1 7 3 6 7 1 2 0 2 7 8 3 1 6 6 8\n",
      " 1] [2 1 9 4 1 3 9 3 6 0 3 3 0 4 8 9 5 8 2 1 2 2 0 0 6 2 1 2 0 4 6 7 6 2 6 8 7\n",
      " 5 1 2 4 7 2 3 6 4 8 9 9 2 0 7 6 8 2 5 5 0 4 1 7 7 5 6 0 9 5 9 9 6 0 4 7 9\n",
      " 1 3 3 2 4 2 0 9 1 1 6 4 6 7 4 7 6 4 2 0 1 0 4 1 6 2 0 5 2 1 9 1 3 1 8 9 1\n",
      " 1 1 8 2 2 6 0 5 8 9 7 8 9 3 8 5 4 0 7 9 8 3 1 1 4 7 0 9 4 3 7 7 3 2 9 3 8\n",
      " 5 9 9 7 9 1 1 4 0 8 6 5 2 1 0 0 1 9 3 3 6 1 4 0 9 2 1 1 2 2 1 5 2 3 7 0 1\n",
      " 2 8 9 4 0 1 3 9 1 3 8 8 9 3 9 6 1 3 1 3 0 5 1 5 7 5 8 3 2 8 4 2 5 0 3 8 7\n",
      " 1 7 3 2 3 7 3 0 6 2 7 6 0 2 7 3 5 8 2 7 5 9 4 4 2 8 5 9 0 7 9 4 6 2 4 6 0\n",
      " 9 8 7 6 3 0 4 2 7 9 1 9 8 0 2 6 7 1 6 1 9 2 1 3 0 1 2 9 3 7 6 3 1 0 2 7 4\n",
      " 6 4 1 4 9 6 1 6 1 4 4 7 2 1 6 9 1 8 3 1 1 4 7 7 4 8 9 0 5 4 6 8 7 7 2 5 3\n",
      " 2 4 0 0 9 4 3 8 1 3 9 9 8 0 0 9 4 0 6 3 9 9 8 2 6 8 8 9 1 1 8 0 5 4 1 9 2\n",
      " 1 7 1 2 8 1 1 7 7 9 4 3 4 6 1 2 9 9 5 6 1 1 7 8 1 6 8 8 3 6 7 3 2 4 6 9 6\n",
      " 0 8 2 4 5 4 4 1 1 0 2 8 7 9 0 4 6 5 6 7 5 1 9 9 4 7 1 9 8 5 3 1 4 9 6 7 7\n",
      " 1 6 5 7 0 3 7 9 1 4 2 1 7 0 2 2 7 9 0 1 2 8 3 2 2 0 4 9 9 8 8 7 1 1 3 8 3\n",
      " 0 7 9 9 0 0 4 5 5 9 9 7 6 0 8 8 5 8 6 8 6 7 1 7 0 9 8 2 4 6 3 4 2 2 6 8 8\n",
      " 6 9 6 1 3 3 6 5 6 1 4 4 2 7 0 4 8 1 7 7 2 0 7 9 3 2 2 8 3 1 3 4 0 9 4 9 0\n",
      " 2 8 3 4 3 1 2 6 3 7 9 3 1 4 1 3 7 9 2 3 5 1 4 1 0 9 6 4 7 0 3 2 0 4 6 5 0\n",
      " 6 4 9 0 3 2 3 2 8 1 9 7 7 4 2 2 6 0 2 8 7 4 8 4 5 3 6 5 1 6 8 5 4 5 1 7 9\n",
      " 9 3 3 5 7 4 1 3 5 0 7 1 4 2 5 4 4 9 2 9 0 0 2 1 8 0 1 1 6 9 3 4 4 9 1 2 4\n",
      " 1 7 2 9 4 8 6 4 4 2 2 0 8 8 6 7 3 2 2 1 9 1 6 1 1 2 1 3 2 6 0 4 6 7 2 1 7\n",
      " 4 7 6 3 2 8 5 0 4 8 4 3 0 1 5 0 1 9 6 9 3 5 6 0 4 4 5 2 3 9 6 9 7 3 0 7 9\n",
      " 7 1 3 5 1 7 4 2 2 5 9 9 4 4 9 3 3 5 3 0 5 4 6 1 7 7 2 6 8 6 4 0 8 1 0 0 9\n",
      " 8 4 4 3 1 7 4 1 3 0 6 8 6 6 3 3 0 1 1 4 5 0 5 8 6 2 3 3 5 4 1 7 0 5 1 4 1\n",
      " 3 0 5 0 8 9 0 4 1 7 6 9 4 9 3 0 6 1 2 1 1 9 9 0 7 3 6 8 1 2 2 3 7 4 2 0 1\n",
      " 0 2 8 7 4 1 0 4 8 9 2 8 6 2 9 5 0 2 4 3 1 9 7 2 7 3 9 7 0 4 9 9 0 1 4 3 4\n",
      " 1 9 1 5 5 0 3 0 3 3 2 0 0 9 5 9 2 3 4 5 7 5 1 9 5 2 1 5 8 8 3 1 7 9 1 7 8\n",
      " 6 9 5 9 6 7 0 8 9 5 0 3 3 8 2 0 9 8 4 4 5 0 4 9 1 8 4 3 5 4 0 1 6 7 6 0 1\n",
      " 6 4 7 7 2 8 3 8 2 9 2 9 0 3 3 2 8 3 3 4 7 1 7 3 6 9 1 2 0 2 7 3 3 1 6 6 8\n",
      " 1]\n"
     ]
    },
    {
     "data": {
      "text/plain": [
       "0.865"
      ]
     },
     "execution_count": 55,
     "metadata": {},
     "output_type": "execute_result"
    }
   ],
   "source": [
    "dev_predictions = make_predictions(Xtest, W1, b1, W2, b2)\n",
    "get_accuracy(dev_predictions, ytest)"
   ]
  },
  {
   "cell_type": "code",
   "execution_count": null,
   "metadata": {},
   "outputs": [],
   "source": []
  },
  {
   "cell_type": "code",
   "execution_count": null,
   "metadata": {},
   "outputs": [],
   "source": []
  }
 ],
 "metadata": {
  "kernelspec": {
   "display_name": "Python 3",
   "language": "python",
   "name": "python3"
  },
  "language_info": {
   "codemirror_mode": {
    "name": "ipython",
    "version": 3
   },
   "file_extension": ".py",
   "mimetype": "text/x-python",
   "name": "python",
   "nbconvert_exporter": "python",
   "pygments_lexer": "ipython3",
   "version": "3.9.0"
  }
 },
 "nbformat": 4,
 "nbformat_minor": 4
}
